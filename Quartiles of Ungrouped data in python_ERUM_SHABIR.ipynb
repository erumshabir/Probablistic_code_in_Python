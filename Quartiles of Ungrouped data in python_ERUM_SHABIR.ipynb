{
 "cells": [
  {
   "cell_type": "markdown",
   "metadata": {},
   "source": [
    "# Quartiles of Ungrouped data in python"
   ]
  },
  {
   "cell_type": "code",
   "execution_count": 1,
   "metadata": {},
   "outputs": [],
   "source": [
    "# Erum Shabir \n",
    "# BSCS"
   ]
  },
  {
   "cell_type": "markdown",
   "metadata": {},
   "source": [
    "'''\n",
    "A quartile is a type of quantile which divides the number of data points into four \n",
    "more or less equal parts, or quarters.\n",
    "\n",
    "-The first quartile is defined as the middle number between the smallest number and\n",
    "the median of the data set. It is also known as the lower quartile or the 25th \n",
    "empirical quartile and it marks where 25% of the data is below or to the left of it\n",
    "(if data is ordered on a timeline from smallest to largest).\n",
    "\n",
    "-The second quartile (Q2) is the median of a data set and 50% of the data lies below\n",
    "this point. \n",
    "\n",
    "-The third quartile (Q3) is the middle value between the median and the highest value \n",
    "of the data set. It is also known as the upper quartile or the 75th empirical quartile and\n",
    "75% of the data lies below this point(Wikipedia) \n",
    "\n",
    "Quartiles are the values that divide a list of numbers into quarters:\n",
    "- Put the list of numbers in order\n",
    "- Then cut the list into four equal parts\n",
    "- The Quartiles are at the \"cuts\"\n",
    "'''"
   ]
  },
  {
   "cell_type": "code",
   "execution_count": 92,
   "metadata": {
    "scrolled": true
   },
   "outputs": [
    {
     "name": "stdout",
     "output_type": "stream",
     "text": [
      "Given data:\n",
      "[12, 5, 22, 30, 7, 36, 14, 42, 15, 53, 25]\n",
      "Data Sorted in ascending order:\n",
      "[5, 7, 12, 14, 15, 22, 25, 30, 36, 42, 53]\n",
      "Length of data is:  11\n"
     ]
    }
   ],
   "source": [
    "# Define the data set \n",
    "ungrouped_data = [12, 5, 22, 30, 7, 36, 14, 42, 15, 53, 25]\n",
    "print(\"Given data:\" )\n",
    "print( ungrouped_data)\n",
    "\n",
    "# Sort the data set in ascending order\n",
    "ungrouped_data.sort()\n",
    "print(\"Data Sorted in ascending order:\")\n",
    "print(ungrouped_data )\n",
    "\n",
    "# Defing n (total lenth of data) using len function \n",
    "n = len(ungrouped_data)\n",
    "print(\"Length of data is: \" , n)\n"
   ]
  },
  {
   "cell_type": "code",
   "execution_count": 93,
   "metadata": {},
   "outputs": [
    {
     "name": "stdout",
     "output_type": "stream",
     "text": [
      "First Quartile Q1:  5 7 12 "
     ]
    }
   ],
   "source": [
    "# Lower quartile or first quartile q1\n",
    "'''Array start from zero in python that why we substract 1 from q1 \n",
    "because in statistcis we count data from 1 in this way we esily use\n",
    "statics method finding quartile\n",
    "'''\n",
    "q1 = (n+1)//4\n",
    "q1 = (q1-1)\n",
    "\n",
    "print(\"First Quartile Q1: \",end=\" \")\n",
    "i=0\n",
    "while i <= q1:\n",
    "    print(ungrouped_data[i],end=\" \")\n",
    "    i += 1\n",
    "    "
   ]
  },
  {
   "cell_type": "code",
   "execution_count": 94,
   "metadata": {},
   "outputs": [
    {
     "name": "stdout",
     "output_type": "stream",
     "text": [
      "Second Quartile Q2: 14 15 22 "
     ]
    }
   ],
   "source": [
    "# Median or second quartile q2\n",
    "'''Array start from zero in python that why we substract 1 from q2 \n",
    "because in statistcis we count data from 1 in this way we esily use\n",
    "statics method finding quartile\n",
    "'''\n",
    "q2 = 2*((n+1)//4)\n",
    "q2 = (q2-1)\n",
    "\n",
    "print(\"Second Quartile Q2: \",end=\"\")\n",
    "j=q1+1\n",
    "while j <= q2:\n",
    "    print(ungrouped_data[j],end=\" \")\n",
    "    j += 1"
   ]
  },
  {
   "cell_type": "code",
   "execution_count": 95,
   "metadata": {},
   "outputs": [
    {
     "name": "stdout",
     "output_type": "stream",
     "text": [
      "Third Quartile Q3: 25 30 36 "
     ]
    }
   ],
   "source": [
    "# Upper quartile or Third Quartile \n",
    "'''Array start from zero in python that why we substract 1 from q3 \n",
    "because in statistcis we count data from 1 in this way we esily use\n",
    "statics method finding quartile\n",
    "'''\n",
    "q3 = 3*((n+1)//4)\n",
    "q3 = (q3-1) \n",
    "\n",
    "print(\"Third Quartile Q3: \",end=\"\")\n",
    "k=q2+1\n",
    "while k <= q3:\n",
    "    print(ungrouped_data[k],end=\" \")\n",
    "    k += 1"
   ]
  },
  {
   "cell_type": "code",
   "execution_count": 96,
   "metadata": {},
   "outputs": [
    {
     "name": "stdout",
     "output_type": "stream",
     "text": [
      "Fourth Quartile Q4: 42 53 "
     ]
    }
   ],
   "source": [
    "# Forth quartile or last part\n",
    "'''\n",
    "Its remaining part after Q3\n",
    "'''\n",
    "print(\"Fourth Quartile Q4: \",end=\"\")\n",
    "l=q3+1\n",
    "while  l < n:\n",
    "    print(ungrouped_data[l],end=\" \")\n",
    "    l += 1"
   ]
  }
 ],
 "metadata": {
  "kernelspec": {
   "display_name": "Python 3",
   "language": "python",
   "name": "python3"
  },
  "language_info": {
   "codemirror_mode": {
    "name": "ipython",
    "version": 3
   },
   "file_extension": ".py",
   "mimetype": "text/x-python",
   "name": "python",
   "nbconvert_exporter": "python",
   "pygments_lexer": "ipython3",
   "version": "3.7.7"
  }
 },
 "nbformat": 4,
 "nbformat_minor": 2
}
